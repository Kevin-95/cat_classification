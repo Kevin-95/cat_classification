{
 "cells": [
  {
   "cell_type": "markdown",
   "metadata": {},
   "source": [
    "# 1. 第一次作业"
   ]
  },
  {
   "cell_type": "code",
   "execution_count": 43,
   "metadata": {
    "collapsed": false
   },
   "outputs": [
    {
     "name": "stdout",
     "output_type": "stream",
     "text": [
      "data116  data760\r\n"
     ]
    }
   ],
   "source": [
    "# 查看当前挂载的数据集目录\n",
    "!ls /home/aistudio/data/"
   ]
  },
  {
   "cell_type": "code",
   "execution_count": 44,
   "metadata": {
    "collapsed": false
   },
   "outputs": [],
   "source": [
    "# 查看个人持久化工作区文件\n",
    "!ls /home/aistudio/work/"
   ]
  },
  {
   "cell_type": "code",
   "execution_count": 45,
   "metadata": {
    "collapsed": false
   },
   "outputs": [],
   "source": [
    "import pandas as pd \n",
    "import numpy as np \n",
    "import matplotlib.pyplot as plt \n",
    "%matplotlib inline"
   ]
  },
  {
   "cell_type": "code",
   "execution_count": 46,
   "metadata": {
    "collapsed": false
   },
   "outputs": [],
   "source": [
    "import paddle\n",
    "import sys\n",
    "import paddle.fluid as fluid\n",
    "from paddle.fluid.contrib.trainer import *\n",
    "from paddle.fluid.contrib.inferencer import *"
   ]
  },
  {
   "cell_type": "code",
   "execution_count": 47,
   "metadata": {
    "collapsed": false
   },
   "outputs": [
    {
     "name": "stdout",
     "output_type": "stream",
     "text": [
      "3.5.5 | packaged by conda-forge | (default, Jul 23 2018, 23:45:43) \n",
      "[GCC 4.8.2 20140120 (Red Hat 4.8.2-15)]\n",
      "1.4.1\n"
     ]
    }
   ],
   "source": [
    "print(sys.version)\n",
    "print(paddle.__version__)"
   ]
  },
  {
   "cell_type": "code",
   "execution_count": 48,
   "metadata": {
    "collapsed": false
   },
   "outputs": [
    {
     "data": {
      "text/html": [
       "<div>\n",
       "<style scoped>\n",
       "    .dataframe tbody tr th:only-of-type {\n",
       "        vertical-align: middle;\n",
       "    }\n",
       "\n",
       "    .dataframe tbody tr th {\n",
       "        vertical-align: top;\n",
       "    }\n",
       "\n",
       "    .dataframe thead th {\n",
       "        text-align: right;\n",
       "    }\n",
       "</style>\n",
       "<table border=\"1\" class=\"dataframe\">\n",
       "  <thead>\n",
       "    <tr style=\"text-align: right;\">\n",
       "      <th></th>\n",
       "      <th>面积</th>\n",
       "      <th>房价</th>\n",
       "    </tr>\n",
       "  </thead>\n",
       "  <tbody>\n",
       "    <tr>\n",
       "      <th>0</th>\n",
       "      <td>98.87</td>\n",
       "      <td>599.0</td>\n",
       "    </tr>\n",
       "    <tr>\n",
       "      <th>1</th>\n",
       "      <td>68.74</td>\n",
       "      <td>450.0</td>\n",
       "    </tr>\n",
       "    <tr>\n",
       "      <th>2</th>\n",
       "      <td>89.24</td>\n",
       "      <td>440.0</td>\n",
       "    </tr>\n",
       "    <tr>\n",
       "      <th>3</th>\n",
       "      <td>129.19</td>\n",
       "      <td>780.0</td>\n",
       "    </tr>\n",
       "    <tr>\n",
       "      <th>4</th>\n",
       "      <td>61.64</td>\n",
       "      <td>450.0</td>\n",
       "    </tr>\n",
       "  </tbody>\n",
       "</table>\n",
       "</div>"
      ],
      "text/plain": [
       "       面积     房价\n",
       "0   98.87  599.0\n",
       "1   68.74  450.0\n",
       "2   89.24  440.0\n",
       "3  129.19  780.0\n",
       "4   61.64  450.0"
      ]
     },
     "execution_count": 48,
     "metadata": {},
     "output_type": "execute_result"
    }
   ],
   "source": [
    "df=pd.read_csv('data/data116/HousePriceLinearRegressionData.txt',names=['面积','房价'])\n",
    "df.head()"
   ]
  },
  {
   "cell_type": "code",
   "execution_count": 49,
   "metadata": {
    "collapsed": false
   },
   "outputs": [
    {
     "data": {
      "text/plain": [
       "array([[ 98.87, 599.  ],\n",
       "       [ 68.74, 450.  ],\n",
       "       [ 89.24, 440.  ],\n",
       "       [129.19, 780.  ],\n",
       "       [ 61.64, 450.  ],\n",
       "       [ 74.  , 315.  ],\n",
       "       [124.07, 998.  ],\n",
       "       [ 65.  , 435.  ],\n",
       "       [ 57.52, 435.  ],\n",
       "       [ 60.42, 225.  ]])"
      ]
     },
     "execution_count": 49,
     "metadata": {},
     "output_type": "execute_result"
    }
   ],
   "source": [
    "data=np.loadtxt('data/data116/HousePriceLinearRegressionData.txt',delimiter=',')\n",
    "data[:10]"
   ]
  },
  {
   "cell_type": "code",
   "execution_count": 50,
   "metadata": {
    "collapsed": false
   },
   "outputs": [
    {
     "name": "stdout",
     "output_type": "stream",
     "text": [
      "[ 199.96 2000.  ] [ 40.09 202.  ] [ 94.64454023 608.25057471] [ 1094.76662502 78143.72341921]\n"
     ]
    }
   ],
   "source": [
    "max_data,min_data,avg_data,var_data= data.max(axis=0),data.min(axis=0),data.mean(axis=0),data.var(axis=0)\n",
    "print(max_data,min_data,avg_data,var_data)"
   ]
  },
  {
   "cell_type": "code",
   "execution_count": 51,
   "metadata": {
    "collapsed": false
   },
   "outputs": [
    {
     "name": "stdout",
     "output_type": "stream",
     "text": [
      "[[ 98.87 599.  ]\n",
      " [ 68.74 450.  ]\n",
      " [ 89.24 440.  ]\n",
      " ...\n",
      " [ 89.   735.  ]\n",
      " [ 59.53 360.  ]\n",
      " [ 97.   600.  ]]\n",
      "0.6587568635148239 202.0\n"
     ]
    }
   ],
   "source": [
    "norm_data=data.copy()\n",
    "print(norm_data)\n",
    "norm_data[:,0]=(data[:,0]-avg_data[0])/(max_data[0]-min_data[0])\n",
    "print(norm_data[:,0].max(),norm_data[:,1].min())"
   ]
  },
  {
   "cell_type": "code",
   "execution_count": 52,
   "metadata": {
    "collapsed": false
   },
   "outputs": [
    {
     "name": "stdout",
     "output_type": "stream",
     "text": [
      "696 174\n"
     ]
    }
   ],
   "source": [
    "ratio=0.8\n",
    "train_index=int(norm_data.shape[0]*ratio)\n",
    "train_data=norm_data[:train_index]\n",
    "test_data=norm_data[train_index:]\n",
    "print(len(train_data),len(test_data))"
   ]
  },
  {
   "cell_type": "markdown",
   "metadata": {},
   "source": [
    "import random\n",
    "def reader(data,batch_size):\n",
    "    index=list(range(len(data)))\n",
    "    random.shuffle(index)\n",
    "    for i in range(0,len(data),batch_size):\n",
    "        yield data.take(index[i,np.min(i+batch_size,len(data))])"
   ]
  },
  {
   "cell_type": "markdown",
   "metadata": {},
   "source": [
    "def train(batch_size):\n",
    "    global train_data\n",
    "    return reader(train_data,batch_size)\n",
    "\n",
    "def test_data(batch_size):\n",
    "    global test_data\n",
    "    return reader(test_data,batch_size)"
   ]
  },
  {
   "cell_type": "code",
   "execution_count": 53,
   "metadata": {
    "collapsed": false
   },
   "outputs": [],
   "source": [
    "def read_data(data_set):\n",
    "    def reader():\n",
    "        for data in data_set:\n",
    "            yield data[:-1],data[-1:]\n",
    "    return reader\n",
    "\n",
    "def train():\n",
    "    global train_data\n",
    "    return read_data(train_data)\n",
    "    \n",
    "def test():\n",
    "    global test_data\n",
    "    return read_data(test_data)"
   ]
  },
  {
   "cell_type": "code",
   "execution_count": 54,
   "metadata": {
    "collapsed": false
   },
   "outputs": [],
   "source": [
    "use_cuda=False\n",
    "place=fluid.CUDAPlace(0) if use_cuda else fluid.CPUPlace()"
   ]
  },
  {
   "cell_type": "code",
   "execution_count": 55,
   "metadata": {
    "collapsed": false
   },
   "outputs": [],
   "source": [
    "x=fluid.layers.data(name='x',shape=[1],dtype='float32')\n",
    "y=fluid.layers.data(name='y',shape=[1],dtype='float32')\n",
    "y_predict=fluid.layers.fc(input=x,size=1,act=None)"
   ]
  },
  {
   "cell_type": "code",
   "execution_count": 56,
   "metadata": {
    "collapsed": false
   },
   "outputs": [],
   "source": [
    "loss=fluid.layers.square_error_cost(input=y_predict,label=y)\n",
    "avg_loss=fluid.layers.mean(loss)"
   ]
  },
  {
   "cell_type": "code",
   "execution_count": 57,
   "metadata": {
    "collapsed": false
   },
   "outputs": [],
   "source": [
    "def train_program():\n",
    "    x=fluid.layers.data(name='x',shape=[1],dtype='float32')\n",
    "    y=fluid.layers.data(name='y',shape=[1],dtype='float32')\n",
    "    y_predict=fluid.layers.fc(input=x,size=1,act=None)\n",
    "    loss=fluid.layers.square_error_cost(input=y_predict,label=y)\n",
    "    avg_loss=fluid.layers.mean(loss)\n",
    "    return avg_loss"
   ]
  },
  {
   "cell_type": "code",
   "execution_count": 58,
   "metadata": {
    "collapsed": false
   },
   "outputs": [],
   "source": [
    "def optimizer_program(learning_rate=0.001):\n",
    "    return fluid.optimizer.SGDOptimizer(learning_rate=learning_rate)"
   ]
  },
  {
   "cell_type": "code",
   "execution_count": 59,
   "metadata": {
    "collapsed": false
   },
   "outputs": [],
   "source": [
    "feed_order=['x','y']\n",
    "params_dirname='predict.model'"
   ]
  },
  {
   "cell_type": "code",
   "execution_count": 60,
   "metadata": {
    "collapsed": false
   },
   "outputs": [],
   "source": [
    "from paddle.utils.plot import Ploter\n",
    "train_title='Train cost'\n",
    "test_title='Test title'\n",
    "plot_cost=Ploter(train_title,test_title)\n",
    "\n",
    "step=0\n",
    "\n",
    "def event_handler_plot(event):\n",
    "    global step\n",
    "    if isinstance(event,fluid.contrib.trainer.EndStepEvent):\n",
    "        if event.step%10==0:\n",
    "            plot_cost.append(train_title,step,event.metrics[0])\n",
    "            plot_cost.plot()\n",
    "        if event.step%100==0:\n",
    "            test_metrics=trainer.test(reader=test_reader,feed_order=feed_order)\n",
    "            plot_cost.append(test_title,step,test_metrics[0])\n",
    "            plot_cost.plot()\n",
    "            \n",
    "            if test_metrics[0]<1.0:\n",
    "                print('loss is less than 1.0,stop')\n",
    "                trainer.stop()\n",
    "        if params_dirname is not None:\n",
    "            trainer.save_params(params_dirname)\n",
    "    \n",
    "    step += 1"
   ]
  },
  {
   "cell_type": "code",
   "execution_count": 61,
   "metadata": {
    "collapsed": false
   },
   "outputs": [
    {
     "data": {
      "text/plain": [
       "[]"
      ]
     },
     "execution_count": 61,
     "metadata": {},
     "output_type": "execute_result"
    }
   ],
   "source": [
    "exe=fluid.Executor(place)\n",
    "exe.run(fluid.default_startup_program())"
   ]
  },
  {
   "cell_type": "code",
   "execution_count": 62,
   "metadata": {
    "collapsed": false
   },
   "outputs": [
    {
     "data": {
      "image/png": "[encoded data removed]",
      "text/plain": [
       "<Figure size 432x288 with 1 Axes>"
      ]
     },
     "metadata": {},
     "output_type": "display_data"
    },
    {
     "data": {
      "text/plain": [
       "<Figure size 432x288 with 0 Axes>"
      ]
     },
     "metadata": {},
     "output_type": "display_data"
    }
   ],
   "source": [
    "train_reader=paddle.batch(\n",
    "    paddle.reader.shuffle(\n",
    "        train(),\n",
    "        buf_size=500),\n",
    "    batch_size=20)\n",
    "test_reader=paddle.batch(\n",
    "    paddle.reader.shuffle(\n",
    "        test(),\n",
    "        buf_size=500),\n",
    "    batch_size=20)\n",
    "trainer=fluid.contrib.trainer.Trainer(\n",
    "    train_func=train_program,\n",
    "    place=place,\n",
    "    optimizer_func=optimizer_program)\n",
    "trainer.train(\n",
    "    reader=train_reader,num_epochs=100,\n",
    "    feed_order=feed_order,\n",
    "    event_handler=event_handler_plot)"
   ]
  },
  {
   "cell_type": "markdown",
   "metadata": {},
   "source": [
    "# 1. 第一次作业"
   ]
  },
  {
   "cell_type": "code",
   "execution_count": null,
   "metadata": {
    "collapsed": false
   },
   "outputs": [],
   "source": []
  }
 ],
 "metadata": {
  "kernelspec": {
   "display_name": "PaddlePaddle 1.4.1 (Python 3.5)",
   "language": "python",
   "name": "py35-paddle1.2.0"
  },
  "language_info": {
   "codemirror_mode": {
    "name": "ipython",
    "version": 3
   },
   "file_extension": ".py",
   "mimetype": "text/x-python",
   "name": "python",
   "nbconvert_exporter": "python",
   "pygments_lexer": "ipython3",
   "version": "3.5.5"
  }
 },
 "nbformat": 4,
 "nbformat_minor": 1
}
